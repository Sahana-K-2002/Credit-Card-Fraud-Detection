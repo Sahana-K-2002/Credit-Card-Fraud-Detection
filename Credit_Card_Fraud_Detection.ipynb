{
  "nbformat": 4,
  "nbformat_minor": 0,
  "metadata": {
    "colab": {
      "provenance": []
    },
    "kernelspec": {
      "name": "python3",
      "display_name": "Python 3"
    },
    "language_info": {
      "name": "python"
    }
  },
  "cells": [
    {
      "cell_type": "markdown",
      "source": [
        "Importing the libraries"
      ],
      "metadata": {
        "id": "qMeAgf5BZ8B0"
      }
    },
    {
      "cell_type": "code",
      "source": [
        "import pandas as pd\n",
        "import numpy as np"
      ],
      "metadata": {
        "id": "8RDoen05Z-uM"
      },
      "execution_count": null,
      "outputs": []
    },
    {
      "cell_type": "markdown",
      "source": [
        "Data Preprocessing"
      ],
      "metadata": {
        "id": "mNEvmUlrmxFz"
      }
    },
    {
      "cell_type": "code",
      "source": [
        "data=pd.read_csv(\"creditcard.csv\")"
      ],
      "metadata": {
        "id": "-cZkAq0Ygd8D"
      },
      "execution_count": null,
      "outputs": []
    },
    {
      "cell_type": "code",
      "source": [
        "data.info()"
      ],
      "metadata": {
        "colab": {
          "base_uri": "https://localhost:8080/"
        },
        "id": "BG2PJhu5lofF",
        "outputId": "42822e0e-c99c-40ac-cd33-ef3d6ed99c90"
      },
      "execution_count": null,
      "outputs": [
        {
          "output_type": "stream",
          "name": "stdout",
          "text": [
            "<class 'pandas.core.frame.DataFrame'>\n",
            "RangeIndex: 192217 entries, 0 to 192216\n",
            "Data columns (total 31 columns):\n",
            " #   Column  Non-Null Count   Dtype  \n",
            "---  ------  --------------   -----  \n",
            " 0   Time    192217 non-null  float64\n",
            " 1   V1      192217 non-null  float64\n",
            " 2   V2      192217 non-null  float64\n",
            " 3   V3      192217 non-null  float64\n",
            " 4   V4      192216 non-null  float64\n",
            " 5   V5      192216 non-null  float64\n",
            " 6   V6      192216 non-null  float64\n",
            " 7   V7      192216 non-null  float64\n",
            " 8   V8      192216 non-null  float64\n",
            " 9   V9      192216 non-null  float64\n",
            " 10  V10     192216 non-null  float64\n",
            " 11  V11     192216 non-null  float64\n",
            " 12  V12     192216 non-null  float64\n",
            " 13  V13     192216 non-null  float64\n",
            " 14  V14     192216 non-null  float64\n",
            " 15  V15     192216 non-null  float64\n",
            " 16  V16     192216 non-null  float64\n",
            " 17  V17     192216 non-null  float64\n",
            " 18  V18     192216 non-null  float64\n",
            " 19  V19     192216 non-null  float64\n",
            " 20  V20     192216 non-null  float64\n",
            " 21  V21     192216 non-null  float64\n",
            " 22  V22     192216 non-null  float64\n",
            " 23  V23     192216 non-null  float64\n",
            " 24  V24     192216 non-null  float64\n",
            " 25  V25     192216 non-null  float64\n",
            " 26  V26     192216 non-null  float64\n",
            " 27  V27     192216 non-null  float64\n",
            " 28  V28     192216 non-null  float64\n",
            " 29  Amount  192216 non-null  float64\n",
            " 30  Class   192216 non-null  float64\n",
            "dtypes: float64(31)\n",
            "memory usage: 45.5 MB\n"
          ]
        }
      ]
    },
    {
      "cell_type": "code",
      "source": [
        "y=data[\"Class\"]"
      ],
      "metadata": {
        "id": "BIO7R1LslsTu"
      },
      "execution_count": null,
      "outputs": []
    },
    {
      "cell_type": "code",
      "source": [
        "class_counts = y.value_counts()"
      ],
      "metadata": {
        "id": "nTw_JMPTmCfo"
      },
      "execution_count": null,
      "outputs": []
    },
    {
      "cell_type": "code",
      "source": [
        "print(class_counts)"
      ],
      "metadata": {
        "id": "koSuXAHGmHJt",
        "outputId": "3949731d-eb82-4d32-ce67-4233839c4dc4",
        "colab": {
          "base_uri": "https://localhost:8080/"
        }
      },
      "execution_count": null,
      "outputs": [
        {
          "output_type": "stream",
          "name": "stdout",
          "text": [
            "0.0    191839\n",
            "1.0       377\n",
            "Name: Class, dtype: int64\n"
          ]
        }
      ]
    },
    {
      "cell_type": "code",
      "source": [
        "data.isnull().sum()"
      ],
      "metadata": {
        "colab": {
          "base_uri": "https://localhost:8080/"
        },
        "id": "RPyRSPw0r85w",
        "outputId": "3583d893-207d-4594-9184-aba8b3c6b942"
      },
      "execution_count": null,
      "outputs": [
        {
          "output_type": "execute_result",
          "data": {
            "text/plain": [
              "Time      0\n",
              "V1        0\n",
              "V2        0\n",
              "V3        0\n",
              "V4        1\n",
              "V5        1\n",
              "V6        1\n",
              "V7        1\n",
              "V8        1\n",
              "V9        1\n",
              "V10       1\n",
              "V11       1\n",
              "V12       1\n",
              "V13       1\n",
              "V14       1\n",
              "V15       1\n",
              "V16       1\n",
              "V17       1\n",
              "V18       1\n",
              "V19       1\n",
              "V20       1\n",
              "V21       1\n",
              "V22       1\n",
              "V23       1\n",
              "V24       1\n",
              "V25       1\n",
              "V26       1\n",
              "V27       1\n",
              "V28       1\n",
              "Amount    1\n",
              "Class     1\n",
              "dtype: int64"
            ]
          },
          "metadata": {},
          "execution_count": 118
        }
      ]
    },
    {
      "cell_type": "code",
      "source": [
        "data.dropna(inplace=True)"
      ],
      "metadata": {
        "id": "lNDG6sbOsJmi"
      },
      "execution_count": null,
      "outputs": []
    },
    {
      "cell_type": "code",
      "source": [
        "data.isnull().sum()"
      ],
      "metadata": {
        "colab": {
          "base_uri": "https://localhost:8080/"
        },
        "id": "MVjg-p0dtM9p",
        "outputId": "0af5eff6-ca22-4bbf-8e43-bff295e18886"
      },
      "execution_count": null,
      "outputs": [
        {
          "output_type": "execute_result",
          "data": {
            "text/plain": [
              "Time      0\n",
              "V1        0\n",
              "V2        0\n",
              "V3        0\n",
              "V4        0\n",
              "V5        0\n",
              "V6        0\n",
              "V7        0\n",
              "V8        0\n",
              "V9        0\n",
              "V10       0\n",
              "V11       0\n",
              "V12       0\n",
              "V13       0\n",
              "V14       0\n",
              "V15       0\n",
              "V16       0\n",
              "V17       0\n",
              "V18       0\n",
              "V19       0\n",
              "V20       0\n",
              "V21       0\n",
              "V22       0\n",
              "V23       0\n",
              "V24       0\n",
              "V25       0\n",
              "V26       0\n",
              "V27       0\n",
              "V28       0\n",
              "Amount    0\n",
              "Class     0\n",
              "dtype: int64"
            ]
          },
          "metadata": {},
          "execution_count": 120
        }
      ]
    },
    {
      "cell_type": "code",
      "source": [
        "categorical_columns = data.select_dtypes(include=['object'])"
      ],
      "metadata": {
        "id": "hCf_epLTulN1"
      },
      "execution_count": null,
      "outputs": []
    },
    {
      "cell_type": "code",
      "source": [
        "if not categorical_columns.empty:\n",
        "    print(\"Categorical columns found:\")\n",
        "    print(categorical_columns.columns)\n",
        "else:\n",
        "    print(\"No categorical columns found.\")"
      ],
      "metadata": {
        "colab": {
          "base_uri": "https://localhost:8080/"
        },
        "id": "or1ErV7Lunde",
        "outputId": "83779c10-23c2-4731-d691-6d3484244e75"
      },
      "execution_count": null,
      "outputs": [
        {
          "output_type": "stream",
          "name": "stdout",
          "text": [
            "No categorical columns found.\n"
          ]
        }
      ]
    },
    {
      "cell_type": "code",
      "source": [
        "from sklearn.preprocessing import StandardScaler\n",
        "sc = StandardScaler()\n",
        "col=data[['Amount']]"
      ],
      "metadata": {
        "id": "HwwhWNUJu2J1"
      },
      "execution_count": null,
      "outputs": []
    },
    {
      "cell_type": "code",
      "source": [
        "col = sc.fit_transform(col)"
      ],
      "metadata": {
        "id": "S5YhppGHw6wz"
      },
      "execution_count": null,
      "outputs": []
    },
    {
      "cell_type": "code",
      "source": [
        "print(col)"
      ],
      "metadata": {
        "colab": {
          "base_uri": "https://localhost:8080/"
        },
        "id": "wyNVfCJRx5f8",
        "outputId": "bb8f92e9-0d28-4ebb-909d-461fc3f97612"
      },
      "execution_count": null,
      "outputs": [
        {
          "output_type": "stream",
          "name": "stdout",
          "text": [
            "[[ 0.24230716]\n",
            " [-0.34887214]\n",
            " [ 1.16385966]\n",
            " ...\n",
            " [-0.30614211]\n",
            " [-0.27942577]\n",
            " [ 0.06277663]]\n"
          ]
        }
      ]
    },
    {
      "cell_type": "code",
      "source": [
        "data=data.drop(['Amount'], axis=1)"
      ],
      "metadata": {
        "id": "fUFyeyUqx8Mk"
      },
      "execution_count": null,
      "outputs": []
    },
    {
      "cell_type": "code",
      "source": [
        "data.info()"
      ],
      "metadata": {
        "colab": {
          "base_uri": "https://localhost:8080/"
        },
        "id": "kYIk1o-d_X9L",
        "outputId": "90f18752-3278-42a9-923c-b8c86aff1080"
      },
      "execution_count": null,
      "outputs": [
        {
          "output_type": "stream",
          "name": "stdout",
          "text": [
            "<class 'pandas.core.frame.DataFrame'>\n",
            "Int64Index: 192216 entries, 0 to 192215\n",
            "Data columns (total 30 columns):\n",
            " #   Column  Non-Null Count   Dtype  \n",
            "---  ------  --------------   -----  \n",
            " 0   Time    192216 non-null  float64\n",
            " 1   V1      192216 non-null  float64\n",
            " 2   V2      192216 non-null  float64\n",
            " 3   V3      192216 non-null  float64\n",
            " 4   V4      192216 non-null  float64\n",
            " 5   V5      192216 non-null  float64\n",
            " 6   V6      192216 non-null  float64\n",
            " 7   V7      192216 non-null  float64\n",
            " 8   V8      192216 non-null  float64\n",
            " 9   V9      192216 non-null  float64\n",
            " 10  V10     192216 non-null  float64\n",
            " 11  V11     192216 non-null  float64\n",
            " 12  V12     192216 non-null  float64\n",
            " 13  V13     192216 non-null  float64\n",
            " 14  V14     192216 non-null  float64\n",
            " 15  V15     192216 non-null  float64\n",
            " 16  V16     192216 non-null  float64\n",
            " 17  V17     192216 non-null  float64\n",
            " 18  V18     192216 non-null  float64\n",
            " 19  V19     192216 non-null  float64\n",
            " 20  V20     192216 non-null  float64\n",
            " 21  V21     192216 non-null  float64\n",
            " 22  V22     192216 non-null  float64\n",
            " 23  V23     192216 non-null  float64\n",
            " 24  V24     192216 non-null  float64\n",
            " 25  V25     192216 non-null  float64\n",
            " 26  V26     192216 non-null  float64\n",
            " 27  V27     192216 non-null  float64\n",
            " 28  V28     192216 non-null  float64\n",
            " 29  Class   192216 non-null  float64\n",
            "dtypes: float64(30)\n",
            "memory usage: 45.5 MB\n"
          ]
        }
      ]
    },
    {
      "cell_type": "code",
      "source": [
        "data['amount']=col"
      ],
      "metadata": {
        "id": "DciBszEnAcQV"
      },
      "execution_count": null,
      "outputs": []
    },
    {
      "cell_type": "code",
      "source": [
        "data.info()"
      ],
      "metadata": {
        "colab": {
          "base_uri": "https://localhost:8080/"
        },
        "id": "ldhQ5F11DJQ8",
        "outputId": "f5cc5cb9-79f2-46ba-9bf0-c16e3d1d47c5"
      },
      "execution_count": null,
      "outputs": [
        {
          "output_type": "stream",
          "name": "stdout",
          "text": [
            "<class 'pandas.core.frame.DataFrame'>\n",
            "Int64Index: 192216 entries, 0 to 192215\n",
            "Data columns (total 31 columns):\n",
            " #   Column  Non-Null Count   Dtype  \n",
            "---  ------  --------------   -----  \n",
            " 0   Time    192216 non-null  float64\n",
            " 1   V1      192216 non-null  float64\n",
            " 2   V2      192216 non-null  float64\n",
            " 3   V3      192216 non-null  float64\n",
            " 4   V4      192216 non-null  float64\n",
            " 5   V5      192216 non-null  float64\n",
            " 6   V6      192216 non-null  float64\n",
            " 7   V7      192216 non-null  float64\n",
            " 8   V8      192216 non-null  float64\n",
            " 9   V9      192216 non-null  float64\n",
            " 10  V10     192216 non-null  float64\n",
            " 11  V11     192216 non-null  float64\n",
            " 12  V12     192216 non-null  float64\n",
            " 13  V13     192216 non-null  float64\n",
            " 14  V14     192216 non-null  float64\n",
            " 15  V15     192216 non-null  float64\n",
            " 16  V16     192216 non-null  float64\n",
            " 17  V17     192216 non-null  float64\n",
            " 18  V18     192216 non-null  float64\n",
            " 19  V19     192216 non-null  float64\n",
            " 20  V20     192216 non-null  float64\n",
            " 21  V21     192216 non-null  float64\n",
            " 22  V22     192216 non-null  float64\n",
            " 23  V23     192216 non-null  float64\n",
            " 24  V24     192216 non-null  float64\n",
            " 25  V25     192216 non-null  float64\n",
            " 26  V26     192216 non-null  float64\n",
            " 27  V27     192216 non-null  float64\n",
            " 28  V28     192216 non-null  float64\n",
            " 29  Class   192216 non-null  float64\n",
            " 30  amount  192216 non-null  float64\n",
            "dtypes: float64(31)\n",
            "memory usage: 46.9 MB\n"
          ]
        }
      ]
    },
    {
      "cell_type": "code",
      "source": [
        "x=data.drop(['Class'], axis=1)"
      ],
      "metadata": {
        "id": "dIHdtkAQDMs8"
      },
      "execution_count": null,
      "outputs": []
    },
    {
      "cell_type": "code",
      "source": [
        "from sklearn.impute import SimpleImputer\n",
        "imputer = SimpleImputer(missing_values=np.nan, strategy='mean')\n",
        "imputer.fit([y])\n",
        "[y] = imputer.transform([y])"
      ],
      "metadata": {
        "id": "P-WrRlWLKOTs"
      },
      "execution_count": null,
      "outputs": []
    },
    {
      "cell_type": "markdown",
      "source": [
        "Dealing with Unbalanced Data"
      ],
      "metadata": {
        "id": "EpOhgxv2nHla"
      }
    },
    {
      "cell_type": "code",
      "source": [
        "class_count_0, class_count_1 = data['Class'].value_counts()\n",
        "\n",
        "class_0 = data[data['Class'] == 0]\n",
        "class_1 = data[data['Class'] == 1]\n",
        "print('class 0:', class_0.shape)\n",
        "print('class 1:', class_1.shape)"
      ],
      "metadata": {
        "id": "PoEu-ZBVtO5b",
        "colab": {
          "base_uri": "https://localhost:8080/"
        },
        "outputId": "66df2801-fa04-4df7-bbd6-348dab359d3b"
      },
      "execution_count": null,
      "outputs": [
        {
          "output_type": "stream",
          "name": "stdout",
          "text": [
            "class 0: (191839, 31)\n",
            "class 1: (377, 31)\n"
          ]
        }
      ]
    },
    {
      "cell_type": "code",
      "source": [
        "from imblearn.over_sampling import SMOTE\n",
        "smote = SMOTE()\n",
        "x_smote, y_smote = smote.fit_resample(x, y)"
      ],
      "metadata": {
        "id": "Dbr4X7T-vs_B"
      },
      "execution_count": null,
      "outputs": []
    },
    {
      "cell_type": "code",
      "source": [
        "class_cnt=pd.Series(y_smote).value_counts()\n",
        "print(class_cnt)"
      ],
      "metadata": {
        "colab": {
          "base_uri": "https://localhost:8080/"
        },
        "id": "YNTTvt2UMPBd",
        "outputId": "fd4e3890-81a8-4c9e-9992-46b864bff492"
      },
      "execution_count": null,
      "outputs": [
        {
          "output_type": "stream",
          "name": "stdout",
          "text": [
            "0.0    191839\n",
            "1.0    191839\n",
            "dtype: int64\n"
          ]
        }
      ]
    },
    {
      "cell_type": "markdown",
      "source": [
        "Splitting the dataset into training and test set\n"
      ],
      "metadata": {
        "id": "TNmNX6yLMmHg"
      }
    },
    {
      "cell_type": "code",
      "source": [
        "from sklearn.model_selection import train_test_split\n",
        "x_train, x_test, y_train, y_test = train_test_split(x, y, test_size = 0.2, random_state = 0)"
      ],
      "metadata": {
        "id": "-VrJOID3MXnM"
      },
      "execution_count": null,
      "outputs": []
    },
    {
      "cell_type": "markdown",
      "source": [
        "Training and testing the model with unbalanced data"
      ],
      "metadata": {
        "id": "qNtYaeZjM620"
      }
    },
    {
      "cell_type": "code",
      "source": [
        "from sklearn.ensemble import RandomForestClassifier\n",
        "classifier = RandomForestClassifier(n_estimators = 10, criterion = 'entropy', random_state = 0)\n",
        "classifier.fit(x_train, y_train)"
      ],
      "metadata": {
        "colab": {
          "base_uri": "https://localhost:8080/",
          "height": 74
        },
        "id": "o3nArDnPMsek",
        "outputId": "bb5e57ea-672c-4b2c-d315-63861d457447"
      },
      "execution_count": null,
      "outputs": [
        {
          "output_type": "execute_result",
          "data": {
            "text/plain": [
              "RandomForestClassifier(criterion='entropy', n_estimators=10, random_state=0)"
            ],
            "text/html": [
              "<style>#sk-container-id-3 {color: black;background-color: white;}#sk-container-id-3 pre{padding: 0;}#sk-container-id-3 div.sk-toggleable {background-color: white;}#sk-container-id-3 label.sk-toggleable__label {cursor: pointer;display: block;width: 100%;margin-bottom: 0;padding: 0.3em;box-sizing: border-box;text-align: center;}#sk-container-id-3 label.sk-toggleable__label-arrow:before {content: \"▸\";float: left;margin-right: 0.25em;color: #696969;}#sk-container-id-3 label.sk-toggleable__label-arrow:hover:before {color: black;}#sk-container-id-3 div.sk-estimator:hover label.sk-toggleable__label-arrow:before {color: black;}#sk-container-id-3 div.sk-toggleable__content {max-height: 0;max-width: 0;overflow: hidden;text-align: left;background-color: #f0f8ff;}#sk-container-id-3 div.sk-toggleable__content pre {margin: 0.2em;color: black;border-radius: 0.25em;background-color: #f0f8ff;}#sk-container-id-3 input.sk-toggleable__control:checked~div.sk-toggleable__content {max-height: 200px;max-width: 100%;overflow: auto;}#sk-container-id-3 input.sk-toggleable__control:checked~label.sk-toggleable__label-arrow:before {content: \"▾\";}#sk-container-id-3 div.sk-estimator input.sk-toggleable__control:checked~label.sk-toggleable__label {background-color: #d4ebff;}#sk-container-id-3 div.sk-label input.sk-toggleable__control:checked~label.sk-toggleable__label {background-color: #d4ebff;}#sk-container-id-3 input.sk-hidden--visually {border: 0;clip: rect(1px 1px 1px 1px);clip: rect(1px, 1px, 1px, 1px);height: 1px;margin: -1px;overflow: hidden;padding: 0;position: absolute;width: 1px;}#sk-container-id-3 div.sk-estimator {font-family: monospace;background-color: #f0f8ff;border: 1px dotted black;border-radius: 0.25em;box-sizing: border-box;margin-bottom: 0.5em;}#sk-container-id-3 div.sk-estimator:hover {background-color: #d4ebff;}#sk-container-id-3 div.sk-parallel-item::after {content: \"\";width: 100%;border-bottom: 1px solid gray;flex-grow: 1;}#sk-container-id-3 div.sk-label:hover label.sk-toggleable__label {background-color: #d4ebff;}#sk-container-id-3 div.sk-serial::before {content: \"\";position: absolute;border-left: 1px solid gray;box-sizing: border-box;top: 0;bottom: 0;left: 50%;z-index: 0;}#sk-container-id-3 div.sk-serial {display: flex;flex-direction: column;align-items: center;background-color: white;padding-right: 0.2em;padding-left: 0.2em;position: relative;}#sk-container-id-3 div.sk-item {position: relative;z-index: 1;}#sk-container-id-3 div.sk-parallel {display: flex;align-items: stretch;justify-content: center;background-color: white;position: relative;}#sk-container-id-3 div.sk-item::before, #sk-container-id-3 div.sk-parallel-item::before {content: \"\";position: absolute;border-left: 1px solid gray;box-sizing: border-box;top: 0;bottom: 0;left: 50%;z-index: -1;}#sk-container-id-3 div.sk-parallel-item {display: flex;flex-direction: column;z-index: 1;position: relative;background-color: white;}#sk-container-id-3 div.sk-parallel-item:first-child::after {align-self: flex-end;width: 50%;}#sk-container-id-3 div.sk-parallel-item:last-child::after {align-self: flex-start;width: 50%;}#sk-container-id-3 div.sk-parallel-item:only-child::after {width: 0;}#sk-container-id-3 div.sk-dashed-wrapped {border: 1px dashed gray;margin: 0 0.4em 0.5em 0.4em;box-sizing: border-box;padding-bottom: 0.4em;background-color: white;}#sk-container-id-3 div.sk-label label {font-family: monospace;font-weight: bold;display: inline-block;line-height: 1.2em;}#sk-container-id-3 div.sk-label-container {text-align: center;}#sk-container-id-3 div.sk-container {/* jupyter's `normalize.less` sets `[hidden] { display: none; }` but bootstrap.min.css set `[hidden] { display: none !important; }` so we also need the `!important` here to be able to override the default hidden behavior on the sphinx rendered scikit-learn.org. See: https://github.com/scikit-learn/scikit-learn/issues/21755 */display: inline-block !important;position: relative;}#sk-container-id-3 div.sk-text-repr-fallback {display: none;}</style><div id=\"sk-container-id-3\" class=\"sk-top-container\"><div class=\"sk-text-repr-fallback\"><pre>RandomForestClassifier(criterion=&#x27;entropy&#x27;, n_estimators=10, random_state=0)</pre><b>In a Jupyter environment, please rerun this cell to show the HTML representation or trust the notebook. <br />On GitHub, the HTML representation is unable to render, please try loading this page with nbviewer.org.</b></div><div class=\"sk-container\" hidden><div class=\"sk-item\"><div class=\"sk-estimator sk-toggleable\"><input class=\"sk-toggleable__control sk-hidden--visually\" id=\"sk-estimator-id-3\" type=\"checkbox\" checked><label for=\"sk-estimator-id-3\" class=\"sk-toggleable__label sk-toggleable__label-arrow\">RandomForestClassifier</label><div class=\"sk-toggleable__content\"><pre>RandomForestClassifier(criterion=&#x27;entropy&#x27;, n_estimators=10, random_state=0)</pre></div></div></div></div></div>"
            ]
          },
          "metadata": {},
          "execution_count": 136
        }
      ]
    },
    {
      "cell_type": "code",
      "source": [
        "y_pred = classifier.predict(x_test)"
      ],
      "metadata": {
        "id": "5lZluwOhNNMR"
      },
      "execution_count": null,
      "outputs": []
    },
    {
      "cell_type": "code",
      "source": [
        "from sklearn.metrics import confusion_matrix, accuracy_score, roc_auc_score, f1_score, recall_score, precision_score\n",
        "cm = confusion_matrix(y_test, y_pred)\n",
        "print(\"confusion matrix: \\n\", cm)\n",
        "print(\"accuracy score: \", accuracy_score(y_test, y_pred))\n",
        "print(\"auroc: \", roc_auc_score(y_test, y_pred))\n",
        "print(\"f1 score: \", f1_score(y_test,y_pred))\n",
        "print(\"recall score: \", recall_score(y_test,y_pred))\n",
        "print(\"precision: \", precision_score(y_test,y_pred))"
      ],
      "metadata": {
        "colab": {
          "base_uri": "https://localhost:8080/"
        },
        "id": "fpCGL7UZNY3i",
        "outputId": "b5c60747-fdaa-403c-a35a-61f0508f1371"
      },
      "execution_count": null,
      "outputs": [
        {
          "output_type": "stream",
          "name": "stdout",
          "text": [
            "confusion matrix: \n",
            " [[38370     3]\n",
            " [   16    55]]\n",
            "accuracy score:  0.9995057746332328\n",
            "auroc:  0.887284853676826\n",
            "f1 score:  0.8527131782945736\n",
            "recall score:  0.7746478873239436\n",
            "precision:  0.9482758620689655\n"
          ]
        }
      ]
    },
    {
      "cell_type": "markdown",
      "source": [
        "Training and testing the model after undersampling using SMOTE\n"
      ],
      "metadata": {
        "id": "8NM7lZJ1QIWi"
      }
    },
    {
      "cell_type": "code",
      "source": [
        "x_smote_train, x_smote_test, y_smote_train, y_smote_test = train_test_split(x_smote, y_smote, test_size = 0.2, random_state = 0)"
      ],
      "metadata": {
        "id": "y2SMsyTgQKtB"
      },
      "execution_count": null,
      "outputs": []
    },
    {
      "cell_type": "code",
      "source": [
        "smote_classifier = RandomForestClassifier(n_estimators = 10, criterion = 'entropy', random_state = 0)\n",
        "smote_classifier.fit(x_smote_train, y_smote_train)"
      ],
      "metadata": {
        "colab": {
          "base_uri": "https://localhost:8080/",
          "height": 74
        },
        "id": "ONO6lDplQma5",
        "outputId": "9677ef18-fd65-4b20-dc8b-444235f0acd7"
      },
      "execution_count": null,
      "outputs": [
        {
          "output_type": "execute_result",
          "data": {
            "text/plain": [
              "RandomForestClassifier(criterion='entropy', n_estimators=10, random_state=0)"
            ],
            "text/html": [
              "<style>#sk-container-id-4 {color: black;background-color: white;}#sk-container-id-4 pre{padding: 0;}#sk-container-id-4 div.sk-toggleable {background-color: white;}#sk-container-id-4 label.sk-toggleable__label {cursor: pointer;display: block;width: 100%;margin-bottom: 0;padding: 0.3em;box-sizing: border-box;text-align: center;}#sk-container-id-4 label.sk-toggleable__label-arrow:before {content: \"▸\";float: left;margin-right: 0.25em;color: #696969;}#sk-container-id-4 label.sk-toggleable__label-arrow:hover:before {color: black;}#sk-container-id-4 div.sk-estimator:hover label.sk-toggleable__label-arrow:before {color: black;}#sk-container-id-4 div.sk-toggleable__content {max-height: 0;max-width: 0;overflow: hidden;text-align: left;background-color: #f0f8ff;}#sk-container-id-4 div.sk-toggleable__content pre {margin: 0.2em;color: black;border-radius: 0.25em;background-color: #f0f8ff;}#sk-container-id-4 input.sk-toggleable__control:checked~div.sk-toggleable__content {max-height: 200px;max-width: 100%;overflow: auto;}#sk-container-id-4 input.sk-toggleable__control:checked~label.sk-toggleable__label-arrow:before {content: \"▾\";}#sk-container-id-4 div.sk-estimator input.sk-toggleable__control:checked~label.sk-toggleable__label {background-color: #d4ebff;}#sk-container-id-4 div.sk-label input.sk-toggleable__control:checked~label.sk-toggleable__label {background-color: #d4ebff;}#sk-container-id-4 input.sk-hidden--visually {border: 0;clip: rect(1px 1px 1px 1px);clip: rect(1px, 1px, 1px, 1px);height: 1px;margin: -1px;overflow: hidden;padding: 0;position: absolute;width: 1px;}#sk-container-id-4 div.sk-estimator {font-family: monospace;background-color: #f0f8ff;border: 1px dotted black;border-radius: 0.25em;box-sizing: border-box;margin-bottom: 0.5em;}#sk-container-id-4 div.sk-estimator:hover {background-color: #d4ebff;}#sk-container-id-4 div.sk-parallel-item::after {content: \"\";width: 100%;border-bottom: 1px solid gray;flex-grow: 1;}#sk-container-id-4 div.sk-label:hover label.sk-toggleable__label {background-color: #d4ebff;}#sk-container-id-4 div.sk-serial::before {content: \"\";position: absolute;border-left: 1px solid gray;box-sizing: border-box;top: 0;bottom: 0;left: 50%;z-index: 0;}#sk-container-id-4 div.sk-serial {display: flex;flex-direction: column;align-items: center;background-color: white;padding-right: 0.2em;padding-left: 0.2em;position: relative;}#sk-container-id-4 div.sk-item {position: relative;z-index: 1;}#sk-container-id-4 div.sk-parallel {display: flex;align-items: stretch;justify-content: center;background-color: white;position: relative;}#sk-container-id-4 div.sk-item::before, #sk-container-id-4 div.sk-parallel-item::before {content: \"\";position: absolute;border-left: 1px solid gray;box-sizing: border-box;top: 0;bottom: 0;left: 50%;z-index: -1;}#sk-container-id-4 div.sk-parallel-item {display: flex;flex-direction: column;z-index: 1;position: relative;background-color: white;}#sk-container-id-4 div.sk-parallel-item:first-child::after {align-self: flex-end;width: 50%;}#sk-container-id-4 div.sk-parallel-item:last-child::after {align-self: flex-start;width: 50%;}#sk-container-id-4 div.sk-parallel-item:only-child::after {width: 0;}#sk-container-id-4 div.sk-dashed-wrapped {border: 1px dashed gray;margin: 0 0.4em 0.5em 0.4em;box-sizing: border-box;padding-bottom: 0.4em;background-color: white;}#sk-container-id-4 div.sk-label label {font-family: monospace;font-weight: bold;display: inline-block;line-height: 1.2em;}#sk-container-id-4 div.sk-label-container {text-align: center;}#sk-container-id-4 div.sk-container {/* jupyter's `normalize.less` sets `[hidden] { display: none; }` but bootstrap.min.css set `[hidden] { display: none !important; }` so we also need the `!important` here to be able to override the default hidden behavior on the sphinx rendered scikit-learn.org. See: https://github.com/scikit-learn/scikit-learn/issues/21755 */display: inline-block !important;position: relative;}#sk-container-id-4 div.sk-text-repr-fallback {display: none;}</style><div id=\"sk-container-id-4\" class=\"sk-top-container\"><div class=\"sk-text-repr-fallback\"><pre>RandomForestClassifier(criterion=&#x27;entropy&#x27;, n_estimators=10, random_state=0)</pre><b>In a Jupyter environment, please rerun this cell to show the HTML representation or trust the notebook. <br />On GitHub, the HTML representation is unable to render, please try loading this page with nbviewer.org.</b></div><div class=\"sk-container\" hidden><div class=\"sk-item\"><div class=\"sk-estimator sk-toggleable\"><input class=\"sk-toggleable__control sk-hidden--visually\" id=\"sk-estimator-id-4\" type=\"checkbox\" checked><label for=\"sk-estimator-id-4\" class=\"sk-toggleable__label sk-toggleable__label-arrow\">RandomForestClassifier</label><div class=\"sk-toggleable__content\"><pre>RandomForestClassifier(criterion=&#x27;entropy&#x27;, n_estimators=10, random_state=0)</pre></div></div></div></div></div>"
            ]
          },
          "metadata": {},
          "execution_count": 140
        }
      ]
    },
    {
      "cell_type": "code",
      "source": [
        "y_smote_pred = smote_classifier.predict(x_smote_test)"
      ],
      "metadata": {
        "id": "jMwAeQvoQz_W"
      },
      "execution_count": null,
      "outputs": []
    },
    {
      "cell_type": "code",
      "source": [
        "cm_smote= confusion_matrix(y_smote_test, y_smote_pred)\n",
        "print(\"confusion matrix: \\n\", cm_smote)\n",
        "print(\"accuracy score: \", accuracy_score(y_smote_test, y_smote_pred))\n",
        "print(\"auroc: \", roc_auc_score(y_smote_test, y_smote_pred))\n",
        "print(\"f1 score: \", f1_score(y_smote_test,y_smote_pred))\n",
        "print(\"recall score: \", recall_score(y_smote_test,y_smote_pred))\n",
        "print(\"precision: \", precision_score(y_smote_test,y_smote_pred))"
      ],
      "metadata": {
        "colab": {
          "base_uri": "https://localhost:8080/"
        },
        "id": "B7GFU6OWQ-jv",
        "outputId": "14ac4c60-7697-454f-9120-bda73887dc5c"
      },
      "execution_count": null,
      "outputs": [
        {
          "output_type": "stream",
          "name": "stdout",
          "text": [
            "confusion matrix: \n",
            " [[38697    11]\n",
            " [    1 38027]]\n",
            "accuracy score:  0.9998436196830692\n",
            "auroc:  0.9998447623028708\n",
            "f1 score:  0.9998422422632978\n",
            "recall score:  0.9999737035868308\n",
            "precision:  0.9997108155002892\n"
          ]
        }
      ]
    },
    {
      "cell_type": "code",
      "source": [
        "y_smote_pred_tr = smote_classifier.predict(x_smote_train)\n",
        "\n",
        "cm_smote= confusion_matrix(y_smote_train, y_smote_pred_tr)\n",
        "print(\"confusion matrix: \\n\", cm_smote)\n",
        "print(\"accuracy score: \", accuracy_score(y_smote_train, y_smote_pred_tr))\n",
        "print(\"auroc: \", roc_auc_score(y_smote_train, y_smote_pred_tr))\n",
        "print(\"f1 score: \", f1_score(y_smote_train,y_smote_pred_tr))\n",
        "print(\"recall score: \", recall_score(y_smote_train,y_smote_pred_tr))\n",
        "print(\"precision: \", precision_score(y_smote_train,y_smote_pred_tr))"
      ],
      "metadata": {
        "colab": {
          "base_uri": "https://localhost:8080/"
        },
        "id": "_1HE8VuxRTMT",
        "outputId": "d3b97e59-86ef-49e6-e902-5085728c9279"
      },
      "execution_count": null,
      "outputs": [
        {
          "output_type": "stream",
          "name": "stdout",
          "text": [
            "confusion matrix: \n",
            " [[153131      0]\n",
            " [     0 153811]]\n",
            "accuracy score:  1.0\n",
            "auroc:  1.0\n",
            "f1 score:  1.0\n",
            "recall score:  1.0\n",
            "precision:  1.0\n"
          ]
        }
      ]
    }
  ]
}